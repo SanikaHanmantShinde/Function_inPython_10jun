{
 "cells": [
  {
   "cell_type": "markdown",
   "id": "bcd22529-7e47-4cc4-a2b7-cb8fd40a64f0",
   "metadata": {},
   "source": [
    "# Function in python\n",
    "#### 1.A function is a block of code which only runs when it is called.\n",
    "#### 2.You can pass data, known as parameters into the function.\n",
    "#### 3.A function can return data as a result.\n",
    "#### 4.In python a function is defined using the 'def' keyword."
   ]
  },
  {
   "cell_type": "markdown",
   "id": "68c14c2d-6b59-41e4-bf69-61243ff99541",
   "metadata": {},
   "source": [
    "# types\n",
    "### 1.Built-in function\n",
    "##### function that is built into pyhon\n",
    "### 2.User-defined function-\n",
    "##### function defiened by the user themselves\n"
   ]
  },
  {
   "cell_type": "markdown",
   "id": "6e34febf-2a23-4a27-b53e-29f57ff36a5b",
   "metadata": {},
   "source": [
    "#### -function defination"
   ]
  },
  {
   "cell_type": "code",
   "execution_count": 1,
   "id": "82df014a-8eba-43e4-a8ee-b246f50c2f29",
   "metadata": {},
   "outputs": [],
   "source": [
    "def show():                \n",
    "    print('welcome')"
   ]
  },
  {
   "cell_type": "markdown",
   "id": "2e68cb7e-d5e0-4661-8b6f-78c14bdbfb74",
   "metadata": {},
   "source": [
    "#### -function call"
   ]
  },
  {
   "cell_type": "code",
   "execution_count": 2,
   "id": "d4cccc78-d95a-49cb-9dd3-285f663eb876",
   "metadata": {},
   "outputs": [
    {
     "name": "stdout",
     "output_type": "stream",
     "text": [
      "welcome\n"
     ]
    }
   ],
   "source": [
    "show()                     "
   ]
  },
  {
   "cell_type": "markdown",
   "id": "899f5d5b-0939-424d-9359-46fa11683a77",
   "metadata": {},
   "source": [
    "#### parameterized function"
   ]
  },
  {
   "cell_type": "code",
   "execution_count": 3,
   "id": "07cafc4a-25a7-4c05-babd-87cbdd043e54",
   "metadata": {},
   "outputs": [],
   "source": [
    "def square(a):\n",
    "    result=a*a\n",
    "    print(result)\n",
    "    "
   ]
  },
  {
   "cell_type": "markdown",
   "id": "d5c3eb7c-3238-4f2e-bc18-5ca929f9c017",
   "metadata": {},
   "source": [
    "##### ----variable argument"
   ]
  },
  {
   "cell_type": "code",
   "execution_count": 4,
   "id": "1bf67fcb-3985-4729-9e41-40130cfc4814",
   "metadata": {},
   "outputs": [
    {
     "name": "stdin",
     "output_type": "stream",
     "text": [
      "enter no. to find its square 2\n"
     ]
    },
    {
     "name": "stdout",
     "output_type": "stream",
     "text": [
      "4\n"
     ]
    }
   ],
   "source": [
    "num=int(input('enter no. to find its square'))\n",
    "square(num)"
   ]
  },
  {
   "cell_type": "markdown",
   "id": "76e9f94c-89e3-4287-9121-f7a645abbae4",
   "metadata": {},
   "source": [
    "##### -----constant argument"
   ]
  },
  {
   "cell_type": "code",
   "execution_count": 5,
   "id": "4740460d-6bc0-4968-9447-a1b00a2ccb04",
   "metadata": {},
   "outputs": [
    {
     "name": "stdout",
     "output_type": "stream",
     "text": [
      "25\n"
     ]
    }
   ],
   "source": [
    "square(5)"
   ]
  },
  {
   "cell_type": "markdown",
   "id": "ab61b65c-d894-40e0-83e8-77d391050c46",
   "metadata": {},
   "source": [
    "## Example_1=function to find the largest number"
   ]
  },
  {
   "cell_type": "code",
   "execution_count": 9,
   "id": "beb32892-7916-48c2-9caf-4b5a5966fa19",
   "metadata": {},
   "outputs": [],
   "source": [
    "def largest(x,y):\n",
    "    if x>y:\n",
    "        print('largest is',x)\n",
    "    elif x==y:\n",
    "        print('equal')\n",
    "    else:\n",
    "        print('largest is',y)"
   ]
  },
  {
   "cell_type": "code",
   "execution_count": 10,
   "id": "82d75a52-c359-425c-bade-06da3983cd28",
   "metadata": {},
   "outputs": [
    {
     "name": "stdout",
     "output_type": "stream",
     "text": [
      "equal\n"
     ]
    }
   ],
   "source": [
    "largest(10,10)"
   ]
  },
  {
   "cell_type": "markdown",
   "id": "78b6946d-3b14-4a80-9ef3-314b7f86c79c",
   "metadata": {},
   "source": [
    "## Example_2=printing a name for given number of times"
   ]
  },
  {
   "cell_type": "code",
   "execution_count": 11,
   "id": "0115e24e-dfa4-43f6-9778-1246b443c560",
   "metadata": {},
   "outputs": [],
   "source": [
    "\n",
    "def show(s,no):\n",
    "    for n in range(no):\n",
    "        print(s)"
   ]
  },
  {
   "cell_type": "code",
   "execution_count": 14,
   "id": "b40277ce-8c9d-4b90-a9ea-4d6b10f3a310",
   "metadata": {},
   "outputs": [
    {
     "name": "stdout",
     "output_type": "stream",
     "text": [
      "sanika\n",
      "sanika\n",
      "sanika\n",
      "sanika\n"
     ]
    }
   ],
   "source": [
    "show('sanika',4)"
   ]
  },
  {
   "cell_type": "markdown",
   "id": "8fe17e7a-1b42-4993-ae3a-ca20d3c73417",
   "metadata": {},
   "source": [
    "## Example_3=finding factorial of a number"
   ]
  },
  {
   "cell_type": "code",
   "execution_count": 14,
   "id": "ded84e8c-d942-415e-a45a-3fea6605ebe7",
   "metadata": {},
   "outputs": [],
   "source": [
    "# factorial\n",
    "facto=1\n",
    "def fact(n):\n",
    "    facto=1\n",
    "    for i in range(1,n+1):\n",
    "        facto=facto*i\n",
    "    print(facto)"
   ]
  },
  {
   "cell_type": "code",
   "execution_count": 15,
   "id": "d4c0a948-4f9b-48d2-a7cf-c7a196f427a9",
   "metadata": {},
   "outputs": [
    {
     "name": "stdout",
     "output_type": "stream",
     "text": [
      "120\n"
     ]
    }
   ],
   "source": [
    "fact(5)"
   ]
  },
  {
   "cell_type": "markdown",
   "id": "77605d11-274a-4c9d-971e-05dea06355fb",
   "metadata": {},
   "source": [
    "#  function returning values"
   ]
  },
  {
   "cell_type": "code",
   "execution_count": 10,
   "id": "36a5e8b9-401a-451f-943f-9809fdfadb78",
   "metadata": {},
   "outputs": [],
   "source": [
    "def square(n):\n",
    "    result=n*n\n",
    "    return result\n",
    "    "
   ]
  },
  {
   "cell_type": "code",
   "execution_count": 12,
   "id": "b10ecde2-7d32-44c3-8069-8b9e87c11192",
   "metadata": {},
   "outputs": [
    {
     "name": "stdout",
     "output_type": "stream",
     "text": [
      "square is= 25\n"
     ]
    }
   ],
   "source": [
    "a=square(5)\n",
    "print('square is=',a)"
   ]
  },
  {
   "cell_type": "markdown",
   "id": "1ce87fe7-8d2f-4957-98d9-dfb320c311da",
   "metadata": {},
   "source": [
    "### defference between return and print\n",
    "##### ---------Print== we can store result that function gives into another variable(for process)\n"
   ]
  },
  {
   "cell_type": "code",
   "execution_count": 51,
   "id": "0f01e2fd-e072-4b61-a79c-b435171b24c4",
   "metadata": {},
   "outputs": [
    {
     "name": "stdout",
     "output_type": "stream",
     "text": [
      "12\n",
      "12\n",
      "addition is None\n"
     ]
    }
   ],
   "source": [
    "def add(x,y):\n",
    "    result=x+y\n",
    "    print(result)\n",
    "add(5,7)\n",
    "op=add(5,7)\n",
    "print('addition is',op)"
   ]
  },
  {
   "cell_type": "markdown",
   "id": "4d2d5d5b-8507-430c-86f6-f7ee82cb1751",
   "metadata": {},
   "source": [
    "##### --------Return==we can store result that function returns into another variable(for calculaton)"
   ]
  },
  {
   "cell_type": "code",
   "execution_count": 52,
   "id": "91276e4c-8192-46ca-be92-8de1358847cc",
   "metadata": {},
   "outputs": [
    {
     "name": "stdout",
     "output_type": "stream",
     "text": [
      "addition is 12\n"
     ]
    }
   ],
   "source": [
    "def add(x,y):\n",
    "    result=x+y\n",
    "    return result\n",
    "add(5,7)\n",
    "op=add(5,7)\n",
    "print('addition is',op)"
   ]
  },
  {
   "cell_type": "markdown",
   "id": "9fb44f57-7dd0-4fc5-b603-eb0acb359002",
   "metadata": {},
   "source": [
    "## Example_5=function returning largest number among 3 numbers"
   ]
  },
  {
   "cell_type": "code",
   "execution_count": 56,
   "id": "aa8d8fb6-2d4d-437a-bcfb-721d79e3a92f",
   "metadata": {},
   "outputs": [
    {
     "name": "stdout",
     "output_type": "stream",
     "text": [
      "large is 7\n"
     ]
    }
   ],
   "source": [
    "def large(x,y):\n",
    "    if x>y:\n",
    "        return x\n",
    "    elif x==y:\n",
    "        return 'equal'\n",
    "    else:\n",
    "        return y\n",
    "    \n",
    "\n",
    "op=large(5,7)\n",
    "print('large is',op)"
   ]
  },
  {
   "cell_type": "markdown",
   "id": "0bbc0cf6-9d01-432a-a9ac-1783a3fdcdfe",
   "metadata": {},
   "source": [
    "### Default parameters/required positional arguments"
   ]
  },
  {
   "cell_type": "code",
   "execution_count": 90,
   "id": "25e0e18f-7d3d-44a2-af46-b24ffb18648c",
   "metadata": {},
   "outputs": [],
   "source": [
    "def add3(a=10,b=20,c=30):\n",
    "    result=a+b+c\n",
    "    return result"
   ]
  },
  {
   "cell_type": "markdown",
   "id": "0c3cdb38-16c1-4e8f-82b0-1a9bfd34d206",
   "metadata": {},
   "source": [
    "##### --------taking default values of all the parameters(a,b,c[as not specified while callling])"
   ]
  },
  {
   "cell_type": "code",
   "execution_count": 83,
   "id": "4f1fc5da-80a7-4360-afe9-06ed56c08302",
   "metadata": {},
   "outputs": [
    {
     "data": {
      "text/plain": [
       "60"
      ]
     },
     "execution_count": 83,
     "metadata": {},
     "output_type": "execute_result"
    }
   ],
   "source": [
    "add3()"
   ]
  },
  {
   "cell_type": "markdown",
   "id": "ec80c994-801b-437b-9a06-e70d860ed748",
   "metadata": {},
   "source": [
    "##### --------taking default value of c [as not specified while callling]"
   ]
  },
  {
   "cell_type": "code",
   "execution_count": 85,
   "id": "6b45d107-3684-4775-9cf4-5c2145fc21d2",
   "metadata": {},
   "outputs": [
    {
     "data": {
      "text/plain": [
       "65"
      ]
     },
     "execution_count": 85,
     "metadata": {},
     "output_type": "execute_result"
    }
   ],
   "source": [
    "#add3(10,25)"
   ]
  },
  {
   "cell_type": "markdown",
   "id": "d2a2bd63-4e63-4a2b-81c0-ac3f588a0861",
   "metadata": {},
   "source": [
    "##### --------taking default value of b [as not specified while callling](note: we specifeid values as well as parameter to which we want to assign a value to give b an default value)"
   ]
  },
  {
   "cell_type": "code",
   "execution_count": 86,
   "id": "2b2df03a-13bd-4985-b176-41c9b731c911",
   "metadata": {},
   "outputs": [
    {
     "data": {
      "text/plain": [
       "80"
      ]
     },
     "execution_count": 86,
     "metadata": {},
     "output_type": "execute_result"
    }
   ],
   "source": [
    "add3(a=10,c=50)"
   ]
  },
  {
   "cell_type": "markdown",
   "id": "0e730e7c-f872-40cd-95ac-a0a70aa91b6a",
   "metadata": {},
   "source": [
    "##### --------it is mandatory to write non default argument first before default arguments(i.e :b)"
   ]
  },
  {
   "cell_type": "code",
   "execution_count": 20,
   "id": "8bec39b5-49ac-414c-bae3-8926eccfa754",
   "metadata": {},
   "outputs": [],
   "source": [
    "def add3(b,a=10,c=30):\n",
    "    result=a+b+c\n",
    "    return result"
   ]
  },
  {
   "cell_type": "markdown",
   "id": "3fb9e076-d45f-42f0-832c-f9e1594fb302",
   "metadata": {},
   "source": [
    "##### ---------at list b value has to be provided in function call"
   ]
  },
  {
   "cell_type": "code",
   "execution_count": 93,
   "id": "304f8653-42ec-4a90-8218-6d69ec4c6ace",
   "metadata": {},
   "outputs": [
    {
     "data": {
      "text/plain": [
       "42"
      ]
     },
     "execution_count": 93,
     "metadata": {},
     "output_type": "execute_result"
    }
   ],
   "source": [
    "add3(2)"
   ]
  },
  {
   "cell_type": "markdown",
   "id": "273cb846-28a9-4e59-819a-90ff8619fc75",
   "metadata": {},
   "source": [
    "### muti-return statement(seperated by quamma)"
   ]
  },
  {
   "cell_type": "code",
   "execution_count": 21,
   "id": "eb8e0286-e9bf-40c1-bcc5-786654246b26",
   "metadata": {},
   "outputs": [],
   "source": [
    "def calc(n):\n",
    "    sq=n*n\n",
    "    cub=n**3\n",
    "    return sq,cub"
   ]
  },
  {
   "cell_type": "code",
   "execution_count": 23,
   "id": "055744fb-407e-4b4c-817c-281242b74dbc",
   "metadata": {},
   "outputs": [
    {
     "name": "stdout",
     "output_type": "stream",
     "text": [
      "square is 4\n",
      "cube is 8\n"
     ]
    }
   ],
   "source": [
    "a,b=calc(2)\n",
    "print('square is',a)\n",
    "print('cube is',b)"
   ]
  },
  {
   "cell_type": "markdown",
   "id": "60a5b56d-572b-4454-8df5-ca8037a4e205",
   "metadata": {},
   "source": [
    "### Recursion"
   ]
  },
  {
   "cell_type": "code",
   "execution_count": 26,
   "id": "5bb0cfda-ed27-4995-b32f-ccb6e873b2a2",
   "metadata": {},
   "outputs": [
    {
     "name": "stdin",
     "output_type": "stream",
     "text": [
      "enter a number to find factorial= 5\n"
     ]
    },
    {
     "data": {
      "text/plain": [
       "120"
      ]
     },
     "execution_count": 26,
     "metadata": {},
     "output_type": "execute_result"
    }
   ],
   "source": [
    "def fact(n):\n",
    "    if n<=1:\n",
    "        return 1\n",
    "    else:\n",
    "        return n*fact(n-1)\n",
    "n=int(input('enter a number to find factorial='))\n",
    "fact(n)\n",
    "    "
   ]
  },
  {
   "cell_type": "markdown",
   "id": "06c791ee-73cb-4021-ac6b-0b4797686273",
   "metadata": {},
   "source": [
    "### dynamic or variable length arguments(use:*args)i.e: star"
   ]
  },
  {
   "cell_type": "code",
   "execution_count": 27,
   "id": "fa5fa0fc-b921-4299-be6d-93b1e51f81ff",
   "metadata": {},
   "outputs": [],
   "source": [
    "def display(*args):\n",
    "    for i in args:\n",
    "        print(i)"
   ]
  },
  {
   "cell_type": "markdown",
   "id": "ec9af8fc-e924-47c2-87d7-279bd53ad93c",
   "metadata": {},
   "source": [
    "##### ----------we can give any no. of arguments"
   ]
  },
  {
   "cell_type": "code",
   "execution_count": 30,
   "id": "0958ddd9-b05b-45d7-b1fe-d0a9e7b788c3",
   "metadata": {},
   "outputs": [
    {
     "name": "stdout",
     "output_type": "stream",
     "text": [
      "1\n",
      "2\n",
      "3\n",
      "5\n",
      "sanika\n",
      "45.9\n",
      "True\n"
     ]
    }
   ],
   "source": [
    "display(1,2,3,5,'sanika',45.90,True)"
   ]
  },
  {
   "cell_type": "markdown",
   "id": "cb818286-5749-4297-90a4-f11fddf3c1f3",
   "metadata": {},
   "source": [
    "#### ---- dictinary key:values(note: double star)"
   ]
  },
  {
   "cell_type": "code",
   "execution_count": 38,
   "id": "8bffc0e2-c2f3-47b6-bac4-530c3b2a997b",
   "metadata": {},
   "outputs": [
    {
     "name": "stdout",
     "output_type": "stream",
     "text": [
      "name = sanika\n",
      "age = 19\n",
      "location = chaphal\n"
     ]
    }
   ],
   "source": [
    "def display(**kwargs):\n",
    "    for a in kwargs:\n",
    "        print(a,'=',kwargs[a])\n",
    "display(name='sanika',age=19,location='chaphal')"
   ]
  },
  {
   "cell_type": "markdown",
   "id": "cba80a8c-9f87-4fcc-abfc-78e5e5f908c1",
   "metadata": {},
   "source": [
    "## lambda function (Anonymous Function)\n",
    "#### 1.function that defined without name.(nameless function)\n",
    "#### 2.while normal function defined using def keyword anonymous function is defined using ' lambda' keyword\n",
    "#### 3.hence is called lambda function\n",
    "### Syntax=\n",
    "\n",
    "#### lambda arguments:expression\n",
    "#any number of arguments #only one expression\n",
    "#### expression is evaluated and returned. lambda function can be used wherever function objects are required\n",
    "#### genrally use it as an argument to a higher order function\n",
    "#### lambda functions are used along with build-in function like-filter(),map() etc."
   ]
  },
  {
   "cell_type": "code",
   "execution_count": 1,
   "id": "145de65e-a836-4508-9a95-62ec0c5fc7b0",
   "metadata": {},
   "outputs": [],
   "source": [
    "#syntax\n",
    "#function_name=lambda arguments:result_expression\n",
    "square=lambda x:x*x"
   ]
  },
  {
   "cell_type": "code",
   "execution_count": 2,
   "id": "86e548dd-e88b-4f6e-8839-9155a2c7a007",
   "metadata": {},
   "outputs": [
    {
     "data": {
      "text/plain": [
       "16"
      ]
     },
     "execution_count": 2,
     "metadata": {},
     "output_type": "execute_result"
    }
   ],
   "source": [
    "square(4)"
   ]
  },
  {
   "cell_type": "code",
   "execution_count": 110,
   "id": "1eeddb32-5e28-47ac-b2c3-4f1380f0e576",
   "metadata": {},
   "outputs": [],
   "source": [
    "multi=lambda x,y:x*y"
   ]
  },
  {
   "cell_type": "code",
   "execution_count": 111,
   "id": "352a3bab-4965-49b6-a7ca-3a567f034106",
   "metadata": {},
   "outputs": [
    {
     "data": {
      "text/plain": [
       "200"
      ]
     },
     "execution_count": 111,
     "metadata": {},
     "output_type": "execute_result"
    }
   ],
   "source": [
    "multi(10,20)"
   ]
  },
  {
   "cell_type": "markdown",
   "id": "498ed3e0-5e69-4419-a208-7171a0aba71a",
   "metadata": {},
   "source": [
    "## filter\n",
    "### 1.the filter function in python takes in function and list as arguments\n",
    "### 2.the function  is called with all the items in the list and a new list is returened which contains items for which the function evalutes True\n",
    "### 3.finds the items that fulfill the condition of the function[expression]."
   ]
  },
  {
   "cell_type": "code",
   "execution_count": 122,
   "id": "09cf1b93-82e2-4ceb-8ea6-ed80100679fd",
   "metadata": {},
   "outputs": [],
   "source": [
    "# filter\n",
    "num=[34,54,32,15,16,27,78]\n",
    "new=filter(lambda x:x>30,num)"
   ]
  },
  {
   "cell_type": "code",
   "execution_count": 123,
   "id": "b35d2539-0b1c-4c30-ad76-c8a6eec308c1",
   "metadata": {},
   "outputs": [
    {
     "data": {
      "text/plain": [
       "[34, 54, 32, 78]"
      ]
     },
     "execution_count": 123,
     "metadata": {},
     "output_type": "execute_result"
    }
   ],
   "source": [
    "list(new)"
   ]
  },
  {
   "cell_type": "markdown",
   "id": "8f995e40-3092-4bf7-8409-1a12048a8e03",
   "metadata": {},
   "source": [
    "## map() function\n",
    "### 1. the map() function in python takes in function and list\n",
    "### 2.the function is called with all the items in the list and a new list is returned which contain items returned by that function for each item.\n",
    "### 3.changes the list"
   ]
  },
  {
   "cell_type": "code",
   "execution_count": 4,
   "id": "abfeb952-c8bc-40df-83b1-1fdb67ba1725",
   "metadata": {},
   "outputs": [],
   "source": [
    "num=[1,2,3,4,5]"
   ]
  },
  {
   "cell_type": "code",
   "execution_count": 5,
   "id": "f88e544c-81bb-4638-ab24-5f8e36b10577",
   "metadata": {},
   "outputs": [],
   "source": [
    "new=map(lambda x:x*x,num)"
   ]
  },
  {
   "cell_type": "code",
   "execution_count": 6,
   "id": "d989aea2-90df-488f-9368-a0c31f6e63de",
   "metadata": {},
   "outputs": [
    {
     "data": {
      "text/plain": [
       "[1, 4, 9, 16, 25]"
      ]
     },
     "execution_count": 6,
     "metadata": {},
     "output_type": "execute_result"
    }
   ],
   "source": [
    "list(new)"
   ]
  },
  {
   "cell_type": "code",
   "execution_count": 7,
   "id": "977d8190-82db-482e-96c5-3397a17c0c91",
   "metadata": {},
   "outputs": [],
   "source": [
    "new=map(lambda x:x>30,num)"
   ]
  },
  {
   "cell_type": "code",
   "execution_count": 8,
   "id": "44cc5dd1-035c-473d-a0d5-47007afc0f7a",
   "metadata": {},
   "outputs": [
    {
     "data": {
      "text/plain": [
       "[False, False, False, False, False]"
      ]
     },
     "execution_count": 8,
     "metadata": {},
     "output_type": "execute_result"
    }
   ],
   "source": [
    "list(new)"
   ]
  },
  {
   "cell_type": "code",
   "execution_count": 12,
   "id": "c83d6e5b-8e77-434c-81c6-1725687daa6c",
   "metadata": {},
   "outputs": [
    {
     "data": {
      "text/plain": [
       "[1, 4, 9, 16, 25]"
      ]
     },
     "execution_count": 12,
     "metadata": {},
     "output_type": "execute_result"
    }
   ],
   "source": [
    "def square(n):\n",
    "    return n*n\n",
    "new=map(square,num)\n",
    "list(new)"
   ]
  },
  {
   "cell_type": "markdown",
   "id": "d9bd86b9-edb0-4eff-a08d-290a6ea7f599",
   "metadata": {},
   "source": [
    "# module(packet)"
   ]
  },
  {
   "cell_type": "code",
   "execution_count": 128,
   "id": "f981d3c6-8018-45a8-bb31-b39a93839e44",
   "metadata": {},
   "outputs": [],
   "source": [
    "import math"
   ]
  },
  {
   "cell_type": "code",
   "execution_count": 129,
   "id": "2e610c1f-f479-4247-ad3b-afa2a515f021",
   "metadata": {},
   "outputs": [
    {
     "data": {
      "text/plain": [
       "5.0"
      ]
     },
     "execution_count": 129,
     "metadata": {},
     "output_type": "execute_result"
    }
   ],
   "source": [
    "math.sqrt(25)"
   ]
  },
  {
   "cell_type": "code",
   "execution_count": 130,
   "id": "95072910-e0b4-45ab-8a40-6b749d4f40e2",
   "metadata": {},
   "outputs": [
    {
     "data": {
      "text/plain": [
       "-0.9880316240928618"
      ]
     },
     "execution_count": 130,
     "metadata": {},
     "output_type": "execute_result"
    }
   ],
   "source": [
    "math.sin(30)"
   ]
  },
  {
   "cell_type": "code",
   "execution_count": 132,
   "id": "de71994f-8d3f-4e50-aaff-412eb71fe5fb",
   "metadata": {},
   "outputs": [
    {
     "name": "stdin",
     "output_type": "stream",
     "text": [
      "enter a radius 10\n"
     ]
    },
    {
     "name": "stdout",
     "output_type": "stream",
     "text": [
      "314.1592653589793\n"
     ]
    }
   ],
   "source": [
    "# print area of circle\n",
    "r=int(input('enter a radius'))\n",
    "a=math.pi*r*r\n",
    "print(a)"
   ]
  },
  {
   "cell_type": "code",
   "execution_count": 133,
   "id": "650e1d23-a8ed-4292-8549-5b44ebaf905c",
   "metadata": {},
   "outputs": [],
   "source": [
    "import time\n"
   ]
  },
  {
   "cell_type": "code",
   "execution_count": 134,
   "id": "cf9711da-1032-4ce7-8d24-609d7f938b81",
   "metadata": {},
   "outputs": [
    {
     "data": {
      "text/plain": [
       "'Mon Jun 10 16:30:37 2024'"
      ]
     },
     "execution_count": 134,
     "metadata": {},
     "output_type": "execute_result"
    }
   ],
   "source": [
    "time.asctime()"
   ]
  },
  {
   "cell_type": "code",
   "execution_count": 135,
   "id": "169314ec-fc13-47fb-b94a-b019b8eedcc8",
   "metadata": {},
   "outputs": [
    {
     "name": "stdout",
     "output_type": "stream",
     "text": [
      "ZZZZZZZ\n",
      "sanika\n"
     ]
    }
   ],
   "source": [
    "print('ZZZZZZZ')\n",
    "time.sleep(5)\n",
    "print('sanika')"
   ]
  },
  {
   "cell_type": "markdown",
   "id": "e1d24359-db9f-4d03-8f40-8b61ff60ed20",
   "metadata": {},
   "source": [
    "# Alias"
   ]
  },
  {
   "cell_type": "code",
   "execution_count": 136,
   "id": "480075a7-c033-489a-8fa3-9eb357912b87",
   "metadata": {},
   "outputs": [],
   "source": [
    "import time as t\n",
    "\n"
   ]
  },
  {
   "cell_type": "code",
   "execution_count": 137,
   "id": "39b6e333-48f3-4cea-a383-f242bb2ede95",
   "metadata": {},
   "outputs": [
    {
     "data": {
      "text/plain": [
       "'Mon Jun 10 16:34:35 2024'"
      ]
     },
     "execution_count": 137,
     "metadata": {},
     "output_type": "execute_result"
    }
   ],
   "source": [
    "t.asctime()"
   ]
  },
  {
   "cell_type": "code",
   "execution_count": 138,
   "id": "bf861f4a-cd69-40b8-acd3-6b4de8808cd5",
   "metadata": {},
   "outputs": [],
   "source": [
    "# selective function\n",
    "from math import sqrt, pi "
   ]
  },
  {
   "cell_type": "code",
   "execution_count": 139,
   "id": "bc07d418-7027-4f20-a782-c0f95f694b03",
   "metadata": {},
   "outputs": [
    {
     "data": {
      "text/plain": [
       "3.141592653589793"
      ]
     },
     "execution_count": 139,
     "metadata": {},
     "output_type": "execute_result"
    }
   ],
   "source": [
    "pi"
   ]
  },
  {
   "cell_type": "code",
   "execution_count": 141,
   "id": "4baa948a-688f-4f93-aec6-dd64c9ad9fd8",
   "metadata": {},
   "outputs": [
    {
     "data": {
      "text/plain": [
       "7.0"
      ]
     },
     "execution_count": 141,
     "metadata": {},
     "output_type": "execute_result"
    }
   ],
   "source": [
    "sqrt(49)"
   ]
  },
  {
   "cell_type": "code",
   "execution_count": 1,
   "id": "303b9844-ada4-4039-abe4-19fc57cafdb0",
   "metadata": {},
   "outputs": [],
   "source": [
    "# user defiend module created in spider .py extention\n",
    "import mod1"
   ]
  },
  {
   "cell_type": "code",
   "execution_count": 2,
   "id": "26927edb-ea7b-46c8-8c48-1ea829fcddfb",
   "metadata": {},
   "outputs": [
    {
     "name": "stdout",
     "output_type": "stream",
     "text": [
      "sanika\n"
     ]
    }
   ],
   "source": [
    "mod1.show()"
   ]
  },
  {
   "cell_type": "code",
   "execution_count": null,
   "id": "0f9d78a2-cc2e-4033-a60a-ece0724ec311",
   "metadata": {},
   "outputs": [],
   "source": []
  }
 ],
 "metadata": {
  "kernelspec": {
   "display_name": "Python 3 (ipykernel)",
   "language": "python",
   "name": "python3"
  },
  "language_info": {
   "codemirror_mode": {
    "name": "ipython",
    "version": 3
   },
   "file_extension": ".py",
   "mimetype": "text/x-python",
   "name": "python",
   "nbconvert_exporter": "python",
   "pygments_lexer": "ipython3",
   "version": "3.11.7"
  }
 },
 "nbformat": 4,
 "nbformat_minor": 5
}
